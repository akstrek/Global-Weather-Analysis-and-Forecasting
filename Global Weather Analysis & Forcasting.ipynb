{
 "cells": [
  {
   "cell_type": "markdown",
   "metadata": {
    "id": "hVkA0alNhVuJ"
   },
   "source": [
    "#First Notebook: Standard aspects of Python"
   ]
  },
  {
   "cell_type": "markdown",
   "metadata": {
    "id": "LdQWRhlhh2FL"
   },
   "source": [
    "The first thing we need to do with Programming is to get Python to print out the statement \"Hello World\". It's like a cardinal rule of teaching programming. Do this by using the print() function below, putting \"Hello World\" in there and hitting the play button:"
   ]
  },
  {
   "cell_type": "code",
   "execution_count": null,
   "metadata": {
    "colab": {
     "base_uri": "https://localhost:8080/"
    },
    "id": "tP4HlpE6hqVL",
    "outputId": "05617431-f753-4740-e885-ae11ebeaf48b"
   },
   "outputs": [
    {
     "name": "stdout",
     "output_type": "stream",
     "text": [
      "Hello World\n"
     ]
    }
   ],
   "source": [
    "print(\"Hello World\")"
   ]
  },
  {
   "cell_type": "markdown",
   "metadata": {
    "id": "T-n7EIz5iRpt"
   },
   "source": [
    "Now we've got that done we can see some of the standard operations Python can do. Try doing some addition and multiplication; below are the calculations 5+0.5 and 276 * 52, change these to your own choice of numbers to see it's working correctly:"
   ]
  },
  {
   "cell_type": "code",
   "execution_count": null,
   "metadata": {
    "colab": {
     "base_uri": "https://localhost:8080/"
    },
    "id": "skhYCRtTjKXL",
    "outputId": "cf1af35b-4e2b-4ce3-8d80-8e547a359c61"
   },
   "outputs": [
    {
     "data": {
      "text/plain": [
       "5.5"
      ]
     },
     "execution_count": 24,
     "metadata": {
      "tags": []
     },
     "output_type": "execute_result"
    }
   ],
   "source": [
    "5 + .5"
   ]
  },
  {
   "cell_type": "code",
   "execution_count": null,
   "metadata": {
    "colab": {
     "base_uri": "https://localhost:8080/"
    },
    "id": "A3wqRY4tjNPh",
    "outputId": "4b8c98a9-bf64-4f68-fda4-a0b009ad5280"
   },
   "outputs": [
    {
     "data": {
      "text/plain": [
       "14352"
      ]
     },
     "execution_count": 25,
     "metadata": {
      "tags": []
     },
     "output_type": "execute_result"
    }
   ],
   "source": [
    "276*52"
   ]
  },
  {
   "cell_type": "markdown",
   "metadata": {
    "id": "-lKomWodjm9r"
   },
   "source": [
    "Python is great for working with data because of how it handles sets of observations. This can be done really simply using a list which is set up using square brackets []."
   ]
  },
  {
   "cell_type": "code",
   "execution_count": null,
   "metadata": {
    "colab": {
     "base_uri": "https://localhost:8080/"
    },
    "id": "ZAAsiHUwkhZD",
    "outputId": "d29dbb9a-c653-4d58-dd18-9199989981f8"
   },
   "outputs": [
    {
     "data": {
      "text/plain": [
       "[1, 2, 3, 4, 5]"
      ]
     },
     "execution_count": 26,
     "metadata": {
      "tags": []
     },
     "output_type": "execute_result"
    }
   ],
   "source": [
    "[1,2,3,4,5]"
   ]
  },
  {
   "cell_type": "markdown",
   "metadata": {
    "id": "V074zQQdklTa"
   },
   "source": [
    "It's all very well doing that with the data, but this isn't saved; it's just been printed out. To save the information so we can use it later we need to create a *variable*, say *x*. Now Python will save the information in the variable *x*, but won't print it out anymore so we need to print(x) if we want to get the information back out:"
   ]
  },
  {
   "cell_type": "code",
   "execution_count": null,
   "metadata": {
    "colab": {
     "base_uri": "https://localhost:8080/"
    },
    "id": "pJGrMAqZoph7",
    "outputId": "4a057ba8-26fb-4bd0-fdf8-3a6dce013d19"
   },
   "outputs": [
    {
     "name": "stdout",
     "output_type": "stream",
     "text": [
      "Cars are: ['XE', 'f-pace', 'XJ', 'F-type']\n"
     ]
    }
   ],
   "source": [
    "x = [\"XE\", \"f-pace\",\"XJ\",\"F-type\"]\n",
    "print(\"Cars are:\",x)\n",
    "#x.append(\"E-type\")\n",
    "#print(\"Cars are:\",x)"
   ]
  },
  {
   "cell_type": "markdown",
   "metadata": {
    "id": "UJyaPd7WpLco"
   },
   "source": [
    "This is a simplistic use, but what if we needed to use the variable to have calculations saved for return, e.g. car prices. Let's look at the prices first and then see what would happen if the chancellor decided to cut VAT on new cars. To make this change we need to adapt each value in the list requiring a *loop*."
   ]
  },
  {
   "cell_type": "code",
   "execution_count": null,
   "metadata": {
    "colab": {
     "base_uri": "https://localhost:8080/"
    },
    "id": "EhKD94RApkW3",
    "outputId": "0c1877c3-b0ed-4583-c926-02ff74bd0e9b"
   },
   "outputs": [
    {
     "name": "stdout",
     "output_type": "stream",
     "text": [
      "Prices are: [34255, 40860, 66970, 54510]\n",
      "Prices without VAT are:  [28545, 34050, 55808, 45425]\n"
     ]
    }
   ],
   "source": [
    "prices = [34255,40860,66970,54510]\n",
    "\n",
    "# print out what the prices are:\n",
    "print(\"Prices are:\",prices)\n",
    "\n",
    "for index in range(len(prices)):\n",
    "  prices[index] = int(prices[index]/1.2)\n",
    "\n",
    "# print out what the new prices are:\n",
    "print(\"Prices without VAT are: \",prices)"
   ]
  },
  {
   "cell_type": "markdown",
   "metadata": {
    "id": "9-6FcB03rK6x"
   },
   "source": [
    "Now we've got two different lists with the car names and prices, but what would be really useful was if we had them stored a singe data type; the natural choice is a *dictionary*:"
   ]
  },
  {
   "cell_type": "code",
   "execution_count": null,
   "metadata": {
    "colab": {
     "base_uri": "https://localhost:8080/"
    },
    "id": "4Nvzm7zNsIYP",
    "outputId": "560f4fba-4522-435d-9227-1b4308910d34"
   },
   "outputs": [
    {
     "name": "stdout",
     "output_type": "stream",
     "text": [
      "{'XE': 28545, 'f-pace': 34050, 'XJ': 55808, 'F-type': 45425}\n"
     ]
    }
   ],
   "source": [
    "Cars = {}\n",
    "for index in range(len(prices)):\n",
    "  Cars[x[index]]=prices[index]\n",
    "print(Cars)"
   ]
  },
  {
   "cell_type": "markdown",
   "metadata": {
    "id": "4X3hoOmtszEs"
   },
   "source": [
    "Now we have a dictionary called Cars we can adapt individual prices and get specific information really easily. Let's cut the price of the XE by £500 due to a promotion:"
   ]
  },
  {
   "cell_type": "code",
   "execution_count": null,
   "metadata": {
    "colab": {
     "base_uri": "https://localhost:8080/"
    },
    "id": "cosNiz9ltNhN",
    "outputId": "3bc2d952-72d6-4a0a-b291-c70ce5681d0a"
   },
   "outputs": [
    {
     "name": "stdout",
     "output_type": "stream",
     "text": [
      "{'XE': 28045, 'f-pace': 34050, 'XJ': 55808, 'F-type': 45425}\n"
     ]
    }
   ],
   "source": [
    "Cars['XE']=Cars['XE']-500\n",
    "print(Cars)"
   ]
  },
  {
   "cell_type": "markdown",
   "metadata": {
    "id": "RuIzcTMcuf1l"
   },
   "source": [
    "So far we've looked at two standard Python data types; lists and dictionaries. For this little example we were ok using lists, but if we had a large dataset and wanted to change all of the elements it would be really cumbersome using loops. We can avoid this by using *arrays* which are part of the Numpy library. So let's import the numpy library:"
   ]
  },
  {
   "cell_type": "code",
   "execution_count": null,
   "metadata": {
    "colab": {
     "base_uri": "https://localhost:8080/"
    },
    "id": "uReRdoNfu9Hf",
    "outputId": "93aeebcf-1d0d-47f2-b5a5-3fe1e64b535c"
   },
   "outputs": [
    {
     "name": "stdout",
     "output_type": "stream",
     "text": [
      "[28546. 34050. 55808. 45425.]\n"
     ]
    }
   ],
   "source": [
    "import numpy\n",
    "prices_array = numpy.array([34255, 40860, 66970, 54510])\n",
    "print(numpy.round(prices_array*(1/1.2)))"
   ]
  },
  {
   "cell_type": "markdown",
   "metadata": {
    "id": "E7nqN6L7vi1E"
   },
   "source": [
    "So now we managed to remove the VAT and print out the array in a single line of code. What would be great is if we could store both sets of prices in a single 2-dimensional array to alter and query. To do this we create an empty array *prices_with_and_without_vat* and then populate the columns at index *0* and *1*."
   ]
  },
  {
   "cell_type": "code",
   "execution_count": null,
   "metadata": {
    "colab": {
     "base_uri": "https://localhost:8080/"
    },
    "id": "Q1zUAjtZvqqq",
    "outputId": "9639bc83-eab4-451a-8728-c1e1f4ffbbe6"
   },
   "outputs": [
    {
     "name": "stdout",
     "output_type": "stream",
     "text": [
      "Prices without and with VAT are:\n",
      " [[28545. 34255.]\n",
      " [34050. 40860.]\n",
      " [55808. 66970.]\n",
      " [45425. 54510.]]\n",
      "This can also be done by having the arrays to be joined inside square brackets\n",
      "[[28545 34050 55808 45425]\n",
      " [34255 40860 66970 54510]]\n",
      "but to get this the right way round we need to transpose the array:\n",
      "[[28545 34255]\n",
      " [34050 40860]\n",
      " [55808 66970]\n",
      " [45425 54510]]\n"
     ]
    }
   ],
   "source": [
    "import numpy as np\n",
    "# writing numpy each time is too long, so shortened to np\n",
    "prices_with_and_without_vat = np.empty([len(prices_array),2])\n",
    "prices_with_and_without_vat[:,0] = np.array(prices)\n",
    "prices_with_and_without_vat[:,1] = np.array(prices_array)\n",
    "print(\"Prices without and with VAT are:\\n\",prices_with_and_without_vat)\n",
    "print(\"This can also be done by having the arrays to be joined inside square brackets\")\n",
    "z = np.array([np.array(prices),prices_array])\n",
    "print(z)\n",
    "print(\"but to get this the right way round we need to transpose the array:\")\n",
    "print(z.T)"
   ]
  },
  {
   "cell_type": "markdown",
   "metadata": {
    "id": "oELan8mM2LWS"
   },
   "source": [
    "# Getting Started with Pandas"
   ]
  },
  {
   "cell_type": "markdown",
   "metadata": {
    "id": "pYS0MivO6nST"
   },
   "source": [
    "We'll be using arrays more extensively over the next few days for handling numerical data, but before we move on we're going to extend the array concept to include row and column headers by creating *data frames* using the *Pandas* library. Pandas is used exhaustively for importing and manipulating data before processing, cleaning and selecting relevant attributes to be converted to arrays that can be used with *Machine Learning* techniques. Let's look at some of the functionalities of Pandas with data from the Hubble Telescope:"
   ]
  },
  {
   "cell_type": "code",
   "execution_count": 1,
   "metadata": {
    "colab": {
     "base_uri": "https://localhost:8080/",
     "height": 204
    },
    "id": "m9wwrzod712o",
    "outputId": "7e790701-f295-42c5-97af-32d2fea8ab46"
   },
   "outputs": [
    {
     "data": {
      "text/html": [
       "<div>\n",
       "<style scoped>\n",
       "    .dataframe tbody tr th:only-of-type {\n",
       "        vertical-align: middle;\n",
       "    }\n",
       "\n",
       "    .dataframe tbody tr th {\n",
       "        vertical-align: top;\n",
       "    }\n",
       "\n",
       "    .dataframe thead th {\n",
       "        text-align: right;\n",
       "    }\n",
       "</style>\n",
       "<table border=\"1\" class=\"dataframe\">\n",
       "  <thead>\n",
       "    <tr style=\"text-align: right;\">\n",
       "      <th></th>\n",
       "      <th>distance</th>\n",
       "      <th>recession_velocity</th>\n",
       "    </tr>\n",
       "  </thead>\n",
       "  <tbody>\n",
       "    <tr>\n",
       "      <th>0</th>\n",
       "      <td>0.032</td>\n",
       "      <td>170</td>\n",
       "    </tr>\n",
       "    <tr>\n",
       "      <th>1</th>\n",
       "      <td>0.034</td>\n",
       "      <td>290</td>\n",
       "    </tr>\n",
       "    <tr>\n",
       "      <th>2</th>\n",
       "      <td>0.214</td>\n",
       "      <td>-130</td>\n",
       "    </tr>\n",
       "    <tr>\n",
       "      <th>3</th>\n",
       "      <td>0.263</td>\n",
       "      <td>-70</td>\n",
       "    </tr>\n",
       "    <tr>\n",
       "      <th>4</th>\n",
       "      <td>0.275</td>\n",
       "      <td>-185</td>\n",
       "    </tr>\n",
       "  </tbody>\n",
       "</table>\n",
       "</div>"
      ],
      "text/plain": [
       "   distance  recession_velocity\n",
       "0     0.032                 170\n",
       "1     0.034                 290\n",
       "2     0.214                -130\n",
       "3     0.263                 -70\n",
       "4     0.275                -185"
      ]
     },
     "execution_count": 1,
     "metadata": {},
     "output_type": "execute_result"
    }
   ],
   "source": [
    "import pandas as pd\n",
    "data = pd.read_csv(\"1c. hubble_data.csv\")\n",
    "# Have a peek at the first few elements\n",
    "data.head()"
   ]
  },
  {
   "cell_type": "code",
   "execution_count": 2,
   "metadata": {
    "id": "M106jdlP-Yf1"
   },
   "outputs": [
    {
     "name": "stdout",
     "output_type": "stream",
     "text": [
      "0     0.032\n",
      "1     0.034\n",
      "2     0.214\n",
      "3     0.263\n",
      "4     0.275\n",
      "5     0.275\n",
      "6     0.450\n",
      "7     0.500\n",
      "8     0.500\n",
      "9     0.630\n",
      "10    0.800\n",
      "11    0.900\n",
      "12    0.900\n",
      "13    0.900\n",
      "14    0.900\n",
      "15    1.000\n",
      "16    1.100\n",
      "17    1.100\n",
      "18    1.400\n",
      "19    1.700\n",
      "20    2.000\n",
      "21    2.000\n",
      "22    2.000\n",
      "23    2.000\n",
      "Name: distance, dtype: float64 \n",
      "\n",
      "Mean:  0.9113749999999999\n",
      "Median:  0.9\n"
     ]
    }
   ],
   "source": [
    "# You can view specific columns in the same way we did with the dictionary and find summary stats\n",
    "print(data[\"distance\"],\"\\n\")\n",
    "print(\"Mean: \",data[\"distance\"].mean())\n",
    "print(\"Median: \",data[\"distance\"].median())"
   ]
  },
  {
   "cell_type": "code",
   "execution_count": 3,
   "metadata": {
    "id": "XQw33kPv-uSK"
   },
   "outputs": [
    {
     "data": {
      "text/html": [
       "<div>\n",
       "<style scoped>\n",
       "    .dataframe tbody tr th:only-of-type {\n",
       "        vertical-align: middle;\n",
       "    }\n",
       "\n",
       "    .dataframe tbody tr th {\n",
       "        vertical-align: top;\n",
       "    }\n",
       "\n",
       "    .dataframe thead th {\n",
       "        text-align: right;\n",
       "    }\n",
       "</style>\n",
       "<table border=\"1\" class=\"dataframe\">\n",
       "  <thead>\n",
       "    <tr style=\"text-align: right;\">\n",
       "      <th></th>\n",
       "      <th>distance</th>\n",
       "      <th>recession_velocity</th>\n",
       "    </tr>\n",
       "  </thead>\n",
       "  <tbody>\n",
       "    <tr>\n",
       "      <th>count</th>\n",
       "      <td>24.000000</td>\n",
       "      <td>24.000000</td>\n",
       "    </tr>\n",
       "    <tr>\n",
       "      <th>mean</th>\n",
       "      <td>0.911375</td>\n",
       "      <td>373.125000</td>\n",
       "    </tr>\n",
       "    <tr>\n",
       "      <th>std</th>\n",
       "      <td>0.645496</td>\n",
       "      <td>371.254666</td>\n",
       "    </tr>\n",
       "    <tr>\n",
       "      <th>min</th>\n",
       "      <td>0.032000</td>\n",
       "      <td>-220.000000</td>\n",
       "    </tr>\n",
       "    <tr>\n",
       "      <th>25%</th>\n",
       "      <td>0.406250</td>\n",
       "      <td>165.000000</td>\n",
       "    </tr>\n",
       "    <tr>\n",
       "      <th>50%</th>\n",
       "      <td>0.900000</td>\n",
       "      <td>295.000000</td>\n",
       "    </tr>\n",
       "    <tr>\n",
       "      <th>75%</th>\n",
       "      <td>1.175000</td>\n",
       "      <td>537.500000</td>\n",
       "    </tr>\n",
       "    <tr>\n",
       "      <th>max</th>\n",
       "      <td>2.000000</td>\n",
       "      <td>1090.000000</td>\n",
       "    </tr>\n",
       "  </tbody>\n",
       "</table>\n",
       "</div>"
      ],
      "text/plain": [
       "        distance  recession_velocity\n",
       "count  24.000000           24.000000\n",
       "mean    0.911375          373.125000\n",
       "std     0.645496          371.254666\n",
       "min     0.032000         -220.000000\n",
       "25%     0.406250          165.000000\n",
       "50%     0.900000          295.000000\n",
       "75%     1.175000          537.500000\n",
       "max     2.000000         1090.000000"
      ]
     },
     "execution_count": 3,
     "metadata": {},
     "output_type": "execute_result"
    }
   ],
   "source": [
    "# Or we can just get Python to do the summarising for us:\n",
    "data.describe()"
   ]
  },
  {
   "cell_type": "code",
   "execution_count": 4,
   "metadata": {
    "id": "gNKvIGleDDOT"
   },
   "outputs": [
    {
     "data": {
      "text/html": [
       "<div>\n",
       "<style scoped>\n",
       "    .dataframe tbody tr th:only-of-type {\n",
       "        vertical-align: middle;\n",
       "    }\n",
       "\n",
       "    .dataframe tbody tr th {\n",
       "        vertical-align: top;\n",
       "    }\n",
       "\n",
       "    .dataframe thead th {\n",
       "        text-align: right;\n",
       "    }\n",
       "</style>\n",
       "<table border=\"1\" class=\"dataframe\">\n",
       "  <thead>\n",
       "    <tr style=\"text-align: right;\">\n",
       "      <th></th>\n",
       "      <th>distance</th>\n",
       "      <th>recession_velocity</th>\n",
       "    </tr>\n",
       "  </thead>\n",
       "  <tbody>\n",
       "    <tr>\n",
       "      <th>22</th>\n",
       "      <td>2.0</td>\n",
       "      <td>800</td>\n",
       "    </tr>\n",
       "    <tr>\n",
       "      <th>21</th>\n",
       "      <td>2.0</td>\n",
       "      <td>850</td>\n",
       "    </tr>\n",
       "    <tr>\n",
       "      <th>15</th>\n",
       "      <td>1.0</td>\n",
       "      <td>920</td>\n",
       "    </tr>\n",
       "    <tr>\n",
       "      <th>19</th>\n",
       "      <td>1.7</td>\n",
       "      <td>960</td>\n",
       "    </tr>\n",
       "    <tr>\n",
       "      <th>23</th>\n",
       "      <td>2.0</td>\n",
       "      <td>1090</td>\n",
       "    </tr>\n",
       "  </tbody>\n",
       "</table>\n",
       "</div>"
      ],
      "text/plain": [
       "    distance  recession_velocity\n",
       "22       2.0                 800\n",
       "21       2.0                 850\n",
       "15       1.0                 920\n",
       "19       1.7                 960\n",
       "23       2.0                1090"
      ]
     },
     "execution_count": 4,
     "metadata": {},
     "output_type": "execute_result"
    }
   ],
   "source": [
    "# What if we need to sort the data?\n",
    "data.sort_values(by=['recession_velocity']).tail()"
   ]
  },
  {
   "cell_type": "markdown",
   "metadata": {
    "id": "9nkP2hwAJTQJ"
   },
   "source": [
    "Listing the data is ok, but it's often more useful to be able to plot observations to get more of intuitive insights. For this we use the matplotlib library:"
   ]
  },
  {
   "cell_type": "code",
   "execution_count": 5,
   "metadata": {
    "id": "f7ZfrFXuDW6D"
   },
   "outputs": [
    {
     "data": {
      "image/png": "[encoded data removed]",
      "text/plain": [
       "<Figure size 640x480 with 1 Axes>"
      ]
     },
     "metadata": {},
     "output_type": "display_data"
    }
   ],
   "source": [
    "import matplotlib.pyplot as plt\n",
    "data.plot()\n",
    "plt.show()"
   ]
  },
  {
   "cell_type": "markdown",
   "metadata": {
    "id": "PkmtS8pmJgbe"
   },
   "source": [
    "This was a simple plot and it's quite straightforward, but the scale of the two different columns messes this up. What we need is to view the two columns on the same plot with different \"y\" axes:"
   ]
  },
  {
   "cell_type": "code",
   "execution_count": 6,
   "metadata": {
    "id": "PZ0Ja0bcG0pA"
   },
   "outputs": [
    {
     "data": {
      "image/png": "[encoded data removed]",
      "text/plain": [
       "<Figure size 640x480 with 2 Axes>"
      ]
     },
     "metadata": {},
     "output_type": "display_data"
    }
   ],
   "source": [
    "fig, ax1 = plt.subplots()\n",
    "t = range(0,len(data))\n",
    "\n",
    "color = 'tab:red'\n",
    "ax1.set_xlabel('Observation')\n",
    "ax1.set_ylabel('distance', color=color)\n",
    "ax1.plot(t, data[\"distance\"], color=color)\n",
    "ax1.tick_params(axis='y', labelcolor=color)\n",
    "\n",
    "ax2 = ax1.twinx()  # instantiate a second axes that shares the same x-axis\n",
    "\n",
    "color = 'tab:blue'\n",
    "ax2.set_ylabel('recession_velocity', color=color)  # we already handled the x-label with ax1\n",
    "ax2.plot(t, data[\"recession_velocity\"], color=color)\n",
    "ax2.tick_params(axis='y', labelcolor=color)\n",
    "\n",
    "fig.tight_layout()  # otherwise the right y-label is slightly clipped\n",
    "plt.show()"
   ]
  },
  {
   "cell_type": "markdown",
   "metadata": {
    "id": "xeRgzIC7J8fV"
   },
   "source": [
    "These values look really well correlated, albeit on a completely different scale. This correlation fits a straight-line relationship really quite well; as can be seen when we get Python to calculate the correlation value using the SciPy library:"
   ]
  },
  {
   "cell_type": "code",
   "execution_count": 7,
   "metadata": {
    "id": "2rh698BnKP2Z"
   },
   "outputs": [
    {
     "name": "stdout",
     "output_type": "stream",
     "text": [
      "0.7896394879353184\n"
     ]
    }
   ],
   "source": [
    "from scipy.stats import pearsonr\n",
    "corr = pearsonr(data[\"distance\"],data[\"recession_velocity\"])[0]\n",
    "print(corr)"
   ]
  },
  {
   "cell_type": "markdown",
   "metadata": {
    "id": "f_J7XlW8LAhg"
   },
   "source": [
    "So if they're this correlated and from the plot it looks like you can draw a straight line through both then we should be able to use a straight line function to map from a distance measurement to estimate the recession_velocity."
   ]
  },
  {
   "cell_type": "code",
   "execution_count": 8,
   "metadata": {
    "id": "SciVNWkxKihC"
   },
   "outputs": [
    {
     "name": "stdout",
     "output_type": "stream",
     "text": [
      "LinregressResult(slope=454.15844092262836, intercept=-40.78364909586037, rvalue=0.7896394879353181, pvalue=4.477491000609205e-06, stderr=75.23710534716912, intercept_stderr=83.43886993606563)\n",
      "Predicted:  322.54310364224233 Actual:  300\n",
      "Predicted:  413.374791826768 Actual:  920\n"
     ]
    }
   ],
   "source": [
    "from scipy.stats import linregress\n",
    "u = linregress(data[\"distance\"],data[\"recession_velocity\"])\n",
    "print(u)\n",
    "# let's format this as a * distance + b:\n",
    "a = u[0]\n",
    "b = u[1]\n",
    "print(\"Predicted: \",data[\"distance\"][10]*a + b,\"Actual: \",data[\"recession_velocity\"][10])\n",
    "print(\"Predicted: \",data[\"distance\"][15]*a + b,\"Actual: \",data[\"recession_velocity\"][15])"
   ]
  },
  {
   "cell_type": "markdown",
   "metadata": {
    "id": "sYer9-zVtdGn"
   },
   "source": [
    "This looks good for the first prediction, but it's really not that close for the second one. Part of the problem is that the two variables are on completely different scales. If we *normalise* them then the predictions will be closer. We're going to use a *function* which takes a data in (using the variable *df*) and returns the normalised version scaled between 0 and 1:"
   ]
  },
  {
   "cell_type": "code",
   "execution_count": 9,
   "metadata": {
    "id": "BOfUz5F76rh2"
   },
   "outputs": [
    {
     "name": "stdout",
     "output_type": "stream",
     "text": [
      "The dataframe is now normalised:\n"
     ]
    },
    {
     "data": {
      "text/html": [
       "<div>\n",
       "<style scoped>\n",
       "    .dataframe tbody tr th:only-of-type {\n",
       "        vertical-align: middle;\n",
       "    }\n",
       "\n",
       "    .dataframe tbody tr th {\n",
       "        vertical-align: top;\n",
       "    }\n",
       "\n",
       "    .dataframe thead th {\n",
       "        text-align: right;\n",
       "    }\n",
       "</style>\n",
       "<table border=\"1\" class=\"dataframe\">\n",
       "  <thead>\n",
       "    <tr style=\"text-align: right;\">\n",
       "      <th></th>\n",
       "      <th>distance</th>\n",
       "      <th>recession_velocity</th>\n",
       "    </tr>\n",
       "  </thead>\n",
       "  <tbody>\n",
       "    <tr>\n",
       "      <th>0</th>\n",
       "      <td>0.000000</td>\n",
       "      <td>0.297710</td>\n",
       "    </tr>\n",
       "    <tr>\n",
       "      <th>1</th>\n",
       "      <td>0.001016</td>\n",
       "      <td>0.389313</td>\n",
       "    </tr>\n",
       "    <tr>\n",
       "      <th>2</th>\n",
       "      <td>0.092480</td>\n",
       "      <td>0.068702</td>\n",
       "    </tr>\n",
       "    <tr>\n",
       "      <th>3</th>\n",
       "      <td>0.117378</td>\n",
       "      <td>0.114504</td>\n",
       "    </tr>\n",
       "    <tr>\n",
       "      <th>4</th>\n",
       "      <td>0.123476</td>\n",
       "      <td>0.026718</td>\n",
       "    </tr>\n",
       "  </tbody>\n",
       "</table>\n",
       "</div>"
      ],
      "text/plain": [
       "   distance  recession_velocity\n",
       "0  0.000000            0.297710\n",
       "1  0.001016            0.389313\n",
       "2  0.092480            0.068702\n",
       "3  0.117378            0.114504\n",
       "4  0.123476            0.026718"
      ]
     },
     "execution_count": 9,
     "metadata": {},
     "output_type": "execute_result"
    }
   ],
   "source": [
    "def normalise(df):\n",
    "  return (df-df.min())/(df.max()-df.min())\n",
    "\n",
    "data_normalised = normalise(data)\n",
    "print(\"The dataframe is now normalised:\")\n",
    "data_normalised.head()"
   ]
  },
  {
   "cell_type": "markdown",
   "metadata": {
    "id": "yhcN510F8kV6"
   },
   "source": [
    "When we re-run the linear *regression* to predict recession_velocity from distance we see that the correlation is the same, but the outputs of the prediction are closer together now."
   ]
  },
  {
   "cell_type": "code",
   "execution_count": 10,
   "metadata": {
    "id": "L-PafuQe6uql"
   },
   "outputs": [
    {
     "name": "stdout",
     "output_type": "stream",
     "text": [
      "LinregressResult(slope=0.6822777188822386, intercept=0.14790032138447612, rvalue=0.7896394879353184, pvalue=4.477491000609155e-06, stderr=0.11302795673528912, intercept_stderr=0.06219228184188979)\n",
      "Predicted:  0.4141550409482766 Actual:  0.3969465648854962\n",
      "Predicted:  0.48349220750134964 Actual:  0.8702290076335878\n"
     ]
    }
   ],
   "source": [
    "u2 = linregress(data_normalised[\"distance\"],data_normalised[\"recession_velocity\"])\n",
    "print(u2)\n",
    "# let's format this as a * distance + b:\n",
    "a2 = u2[0]\n",
    "b2 = u2[1]\n",
    "print(\"Predicted: \",data_normalised[\"distance\"][10]*a2 + b2,\"Actual: \",data_normalised[\"recession_velocity\"][10])\n",
    "print(\"Predicted: \",data_normalised[\"distance\"][15]*a2 + b2,\"Actual: \",data_normalised[\"recession_velocity\"][15])"
   ]
  },
  {
   "cell_type": "markdown",
   "metadata": {
    "id": "fgPBYl6O12k6"
   },
   "source": [
    "#Data Manipulation with Pandas"
   ]
  },
  {
   "cell_type": "markdown",
   "metadata": {
    "id": "n5gJMNYGLHYU"
   },
   "source": [
    "This has been a really simple example. Now we're going to move on to looking at data exploration, for which we need a more complex dataset. We're going to be looking at recorded measurements of city temperatures. Datacentres are now predominantly built in cold climates as it costs less for the servers to be cooled. Producing long-lasting strong alcohol in equatorial climates is extemely difficult. Manufacturing by necessity means you need to understand the climate within which you are operating. As before, let's start by loading in the data."
   ]
  },
  {
   "cell_type": "code",
   "execution_count": null,
   "metadata": {
    "colab": {
     "base_uri": "https://localhost:8080/"
    },
    "id": "2dnwVWpsMDRc",
    "outputId": "5c65132f-32bc-49af-cec4-d4bc502e955e"
   },
   "outputs": [
    {
     "name": "stderr",
     "output_type": "stream",
     "text": [
      "/usr/local/lib/python3.7/dist-packages/IPython/core/interactiveshell.py:2718: DtypeWarning: Columns (2) have mixed types.Specify dtype option on import or set low_memory=False.\n",
      "  interactivity=interactivity, compiler=compiler, result=result)\n"
     ]
    }
   ],
   "source": [
    "data = pd.read_csv(\"/content/1d. city_temperature.csv\")"
   ]
  },
  {
   "cell_type": "markdown",
   "metadata": {
    "id": "eMqwFWCoSl8s"
   },
   "source": [
    "To start with, look at part of the data and describe it to get a feel for the headings and information contained within the dataframe. Then we need to check if there are any null values:"
   ]
  },
  {
   "cell_type": "code",
   "execution_count": null,
   "metadata": {
    "colab": {
     "base_uri": "https://localhost:8080/",
     "height": 204
    },
    "id": "Hz5abZf8TL_N",
    "outputId": "3ff34fb8-756b-4136-e4db-46c710015f51"
   },
   "outputs": [
    {
     "data": {
      "text/html": [
       "<div>\n",
       "<style scoped>\n",
       "    .dataframe tbody tr th:only-of-type {\n",
       "        vertical-align: middle;\n",
       "    }\n",
       "\n",
       "    .dataframe tbody tr th {\n",
       "        vertical-align: top;\n",
       "    }\n",
       "\n",
       "    .dataframe thead th {\n",
       "        text-align: right;\n",
       "    }\n",
       "</style>\n",
       "<table border=\"1\" class=\"dataframe\">\n",
       "  <thead>\n",
       "    <tr style=\"text-align: right;\">\n",
       "      <th></th>\n",
       "      <th>Region</th>\n",
       "      <th>Country</th>\n",
       "      <th>State</th>\n",
       "      <th>City</th>\n",
       "      <th>Month</th>\n",
       "      <th>Day</th>\n",
       "      <th>Year</th>\n",
       "      <th>AvgTemperature</th>\n",
       "    </tr>\n",
       "  </thead>\n",
       "  <tbody>\n",
       "    <tr>\n",
       "      <th>0</th>\n",
       "      <td>Africa</td>\n",
       "      <td>Algeria</td>\n",
       "      <td>NaN</td>\n",
       "      <td>Algiers</td>\n",
       "      <td>1</td>\n",
       "      <td>1</td>\n",
       "      <td>1995</td>\n",
       "      <td>64.2</td>\n",
       "    </tr>\n",
       "    <tr>\n",
       "      <th>1</th>\n",
       "      <td>Africa</td>\n",
       "      <td>Algeria</td>\n",
       "      <td>NaN</td>\n",
       "      <td>Algiers</td>\n",
       "      <td>1</td>\n",
       "      <td>2</td>\n",
       "      <td>1995</td>\n",
       "      <td>49.4</td>\n",
       "    </tr>\n",
       "    <tr>\n",
       "      <th>2</th>\n",
       "      <td>Africa</td>\n",
       "      <td>Algeria</td>\n",
       "      <td>NaN</td>\n",
       "      <td>Algiers</td>\n",
       "      <td>1</td>\n",
       "      <td>3</td>\n",
       "      <td>1995</td>\n",
       "      <td>48.8</td>\n",
       "    </tr>\n",
       "    <tr>\n",
       "      <th>3</th>\n",
       "      <td>Africa</td>\n",
       "      <td>Algeria</td>\n",
       "      <td>NaN</td>\n",
       "      <td>Algiers</td>\n",
       "      <td>1</td>\n",
       "      <td>4</td>\n",
       "      <td>1995</td>\n",
       "      <td>46.4</td>\n",
       "    </tr>\n",
       "    <tr>\n",
       "      <th>4</th>\n",
       "      <td>Africa</td>\n",
       "      <td>Algeria</td>\n",
       "      <td>NaN</td>\n",
       "      <td>Algiers</td>\n",
       "      <td>1</td>\n",
       "      <td>5</td>\n",
       "      <td>1995</td>\n",
       "      <td>47.9</td>\n",
       "    </tr>\n",
       "  </tbody>\n",
       "</table>\n",
       "</div>"
      ],
      "text/plain": [
       "   Region  Country State     City  Month  Day  Year  AvgTemperature\n",
       "0  Africa  Algeria   NaN  Algiers      1    1  1995            64.2\n",
       "1  Africa  Algeria   NaN  Algiers      1    2  1995            49.4\n",
       "2  Africa  Algeria   NaN  Algiers      1    3  1995            48.8\n",
       "3  Africa  Algeria   NaN  Algiers      1    4  1995            46.4\n",
       "4  Africa  Algeria   NaN  Algiers      1    5  1995            47.9"
      ]
     },
     "execution_count": 121,
     "metadata": {
      "tags": []
     },
     "output_type": "execute_result"
    }
   ],
   "source": [
    "data.head()"
   ]
  },
  {
   "cell_type": "code",
   "execution_count": null,
   "metadata": {
    "id": "recLLcunS02M"
   },
   "outputs": [],
   "source": [
    "#data.describe()"
   ]
  },
  {
   "cell_type": "code",
   "execution_count": null,
   "metadata": {
    "colab": {
     "base_uri": "https://localhost:8080/"
    },
    "id": "3tx3j8FhS7st",
    "outputId": "7e4cd677-5d27-4372-9b46-52107131d907"
   },
   "outputs": [
    {
     "data": {
      "text/plain": [
       "Region            False\n",
       "Country           False\n",
       "State              True\n",
       "City              False\n",
       "Month             False\n",
       "Day               False\n",
       "Year              False\n",
       "AvgTemperature    False\n",
       "dtype: bool"
      ]
     },
     "execution_count": 122,
     "metadata": {
      "tags": []
     },
     "output_type": "execute_result"
    }
   ],
   "source": [
    "data.isna().any()"
   ]
  },
  {
   "cell_type": "code",
   "execution_count": null,
   "metadata": {
    "colab": {
     "base_uri": "https://localhost:8080/"
    },
    "id": "nulA7GYsTYUa",
    "outputId": "5839a609-d33a-4de2-a593-bfaab4d15ba3"
   },
   "outputs": [
    {
     "data": {
      "text/plain": [
       "array(['Algiers', 'Bujumbura', 'Cotonou', 'Bangui', 'Brazzaville',\n",
       "       'Cairo', 'Addis Ababa', 'Libreville', 'Banjul', 'Conakry',\n",
       "       'Bissau', 'Abidjan', 'Nairobi', 'Rabat', 'Antananarivo',\n",
       "       'Nouakchott', 'Lilongwe', 'Maputo', 'Windhoek', 'Niamey', 'Lagos',\n",
       "       'Dakar', 'Freetown', 'Capetown', 'Lome', 'Tunis', 'Dar Es Salaam',\n",
       "       'Kampala', 'Lusaka', 'Dhaka', 'Beijing', 'Chengdu', 'Guangzhou',\n",
       "       'Shanghai', 'Shenyang', 'Hong Kong', 'Bombay (Mumbai)', 'Calcutta',\n",
       "       'Chennai (Madras)', 'Delhi', 'Jakarta', 'Osaka', 'Sapporo',\n",
       "       'Tokyo', 'Almaty', 'Bishkek', 'Vientiane', 'Kuala Lumpur',\n",
       "       'Ulan-bator', 'Rangoon', 'Katmandu', 'Pyongyang', 'Islamabad',\n",
       "       'Karachi', 'Manila', 'Singapore', 'Seoul', 'Colombo', 'Taipei',\n",
       "       'Dusanbe', 'Bangkok', 'Ashabad', 'Tashkent', 'Hanoi', 'Brisbane',\n",
       "       'Canberra', 'Melbourne', 'Perth', 'Sydney', 'Auckland', 'Tirana',\n",
       "       'Vienna', 'Minsk', 'Brussels', 'Sofia', 'Zagreb', 'Nicosia',\n",
       "       'Prague', 'Copenhagen', 'Helsinki', 'Paris', 'Bordeaux', 'Bonn',\n",
       "       'Frankfurt', 'Hamburg', 'Munich', 'Tbilisi', 'Athens', 'Budapest',\n",
       "       'Reykjavik', 'Dublin', 'Milan', 'Rome', 'Riga', 'Skopje',\n",
       "       'Amsterdam', 'Oslo', 'Warsaw', 'Lisbon', 'Bucharest', 'Moscow',\n",
       "       'Yerevan', 'Pristina', 'Bratislava', 'Barcelona', 'Bilbao',\n",
       "       'Madrid', 'Stockholm', 'Bern', 'Geneva', 'Zurich', 'Kiev',\n",
       "       'Belfast', 'London', 'Belgrade', 'Manama', 'Tel Aviv', 'Amman',\n",
       "       'Kuwait', 'Beirut', 'Muscat', 'Doha', 'Dhahran', 'Riyadh',\n",
       "       'Damascus', 'Ankara', 'Istanbul', 'Abu Dhabi', 'Dubai', 'Calgary',\n",
       "       'Edmonton', 'Halifax', 'Montreal', 'Ottawa', 'Quebec', 'Regina',\n",
       "       'Toronto', 'Vancouver', 'Winnipeg', 'Guadalajara', 'Mexico City',\n",
       "       'Monterrey', 'Buenos Aires', 'Nassau', 'Hamilton', 'Belize City',\n",
       "       'La Paz', 'Bridgetown', 'Brasilia', 'Rio de Janeiro', 'Sao Paulo',\n",
       "       'Bogota', 'San Jose', 'Havana', 'Santo Domingo', 'Guayaquil',\n",
       "       'Quito', 'Guatemala City', 'Georgetown', 'Port au Prince',\n",
       "       'Tegucigalpa', 'Managua', 'Panama City', 'Lima', 'Paramaribo',\n",
       "       'Montvideo', 'Caracas', 'Birmingham', 'Huntsville', 'Mobile',\n",
       "       'Montgomery', 'Anchorage', 'Fairbanks', 'Juneau', 'Flagstaff',\n",
       "       'Phoenix', 'Tucson', 'Yuma', 'Fort Smith', 'Little Rock', 'Fresno',\n",
       "       'Los Angeles', 'Sacramento', 'San Diego', 'San Francisco',\n",
       "       'Colorado Springs', 'Denver', 'Grand Junction', 'Pueblo',\n",
       "       'Bridgeport', 'Hartford Springfield', 'Wilmington', 'Washington',\n",
       "       'Washington DC', 'Daytona Beach', 'Jacksonville', 'Miami Beach',\n",
       "       'Orlando', 'Tallahassee', 'Tampa St. Petersburg',\n",
       "       'West Palm Beach', 'Atlanta', 'Columbus', 'Macon', 'Savannah',\n",
       "       'Honolulu', 'Boise', 'Pocatello', 'Chicago', 'Peoria', 'Rockford',\n",
       "       'Springfield', 'Evansville', 'Fort Wayne', 'Indianapolis',\n",
       "       'South Bend', 'Des Moines', 'Sioux City', 'Goodland', 'Topeka',\n",
       "       'Wichita', 'Lexington', 'Louisville', 'Paducah', 'Baton Rouge',\n",
       "       'Lake Charles', 'New Orleans', 'Shreveport', 'Caribou', 'Portland',\n",
       "       'Baltimore', 'Boston', 'Detroit', 'Flint', 'Grand Rapids',\n",
       "       'Lansing', 'Sault Ste Marie', 'Duluth', 'Minneapolis St. Paul',\n",
       "       'Jackson', 'Tupelo', 'Kansas City', 'St Louis', 'Billings',\n",
       "       'Great Falls', 'Helena', 'Lincoln', 'North Platte', 'Omaha',\n",
       "       'Reno', 'Las Vegas', 'Concord', 'Atlantic City', 'Newark',\n",
       "       'Albuquerque', 'Albany', 'Buffalo', 'New York City', 'Rochester',\n",
       "       'Syracuse', 'Asheville', 'Charlotte', 'Greensboro',\n",
       "       'Raleigh Durham', 'Bismarck', 'Fargo', 'Akron Canton',\n",
       "       'Cincinnati', 'Cleveland', 'Dayton', 'Toledo', 'Youngstown',\n",
       "       'Oklahoma City', 'Tulsa', 'Eugene', 'Medford', 'Salem',\n",
       "       'Allentown', 'Erie', 'Harrisburg', 'Philadelphia', 'Pittsburgh',\n",
       "       'Wilkes Barre', 'Rhode Island', 'Charleston', 'Columbia',\n",
       "       'Rapid City', 'Sioux Falls', 'Chattanooga', 'Knoxville', 'Memphis',\n",
       "       'Nashville', 'Abilene', 'Amarillo', 'Austin', 'Brownsville',\n",
       "       'Corpus Christi', 'Dallas Ft Worth', 'El Paso', 'Houston',\n",
       "       'Lubbock', 'Midland Odessa', 'San Angelo', 'San Antonio', 'Waco',\n",
       "       'Wichita Falls', 'Salt Lake City', 'Burlington', 'Norfolk',\n",
       "       'Richmond', 'Roanoke', 'Seattle', 'Spokane', 'Yakima', 'Elkins',\n",
       "       'Green Bay', 'Madison', 'Milwaukee', 'Casper', 'Cheyenne',\n",
       "       'San Juan Puerto Rico'], dtype=object)"
      ]
     },
     "execution_count": 123,
     "metadata": {
      "tags": []
     },
     "output_type": "execute_result"
    }
   ],
   "source": [
    "# Let's see what the City are in the dataframe:\n",
    "data.City.unique()"
   ]
  },
  {
   "cell_type": "code",
   "execution_count": null,
   "metadata": {
    "id": "DoFdLjynTgS-"
   },
   "outputs": [],
   "source": [
    "# So the temperatures are stored in farenheight and as a more modern group we want to work with celsius, so let's use a function to transform the data:\n",
    "def to_celsius(row):\n",
    "    return round((row-32) * (5/9),1)\n",
    "\n",
    "data['AvgTemperature'] = data['AvgTemperature'].apply(to_celsius)"
   ]
  },
  {
   "cell_type": "code",
   "execution_count": null,
   "metadata": {
    "colab": {
     "base_uri": "https://localhost:8080/",
     "height": 204
    },
    "id": "zfyOycqNUCNy",
    "outputId": "7dfc58cf-bd24-4808-fad2-5fa506c68bde"
   },
   "outputs": [
    {
     "data": {
      "text/html": [
       "<div>\n",
       "<style scoped>\n",
       "    .dataframe tbody tr th:only-of-type {\n",
       "        vertical-align: middle;\n",
       "    }\n",
       "\n",
       "    .dataframe tbody tr th {\n",
       "        vertical-align: top;\n",
       "    }\n",
       "\n",
       "    .dataframe thead th {\n",
       "        text-align: right;\n",
       "    }\n",
       "</style>\n",
       "<table border=\"1\" class=\"dataframe\">\n",
       "  <thead>\n",
       "    <tr style=\"text-align: right;\">\n",
       "      <th></th>\n",
       "      <th>Region</th>\n",
       "      <th>Country</th>\n",
       "      <th>State</th>\n",
       "      <th>City</th>\n",
       "      <th>Month</th>\n",
       "      <th>Day</th>\n",
       "      <th>Year</th>\n",
       "      <th>AvgTemperature</th>\n",
       "    </tr>\n",
       "  </thead>\n",
       "  <tbody>\n",
       "    <tr>\n",
       "      <th>0</th>\n",
       "      <td>Africa</td>\n",
       "      <td>Algeria</td>\n",
       "      <td>NaN</td>\n",
       "      <td>Algiers</td>\n",
       "      <td>1</td>\n",
       "      <td>1</td>\n",
       "      <td>1995</td>\n",
       "      <td>17.9</td>\n",
       "    </tr>\n",
       "    <tr>\n",
       "      <th>1</th>\n",
       "      <td>Africa</td>\n",
       "      <td>Algeria</td>\n",
       "      <td>NaN</td>\n",
       "      <td>Algiers</td>\n",
       "      <td>1</td>\n",
       "      <td>2</td>\n",
       "      <td>1995</td>\n",
       "      <td>9.7</td>\n",
       "    </tr>\n",
       "    <tr>\n",
       "      <th>2</th>\n",
       "      <td>Africa</td>\n",
       "      <td>Algeria</td>\n",
       "      <td>NaN</td>\n",
       "      <td>Algiers</td>\n",
       "      <td>1</td>\n",
       "      <td>3</td>\n",
       "      <td>1995</td>\n",
       "      <td>9.3</td>\n",
       "    </tr>\n",
       "    <tr>\n",
       "      <th>3</th>\n",
       "      <td>Africa</td>\n",
       "      <td>Algeria</td>\n",
       "      <td>NaN</td>\n",
       "      <td>Algiers</td>\n",
       "      <td>1</td>\n",
       "      <td>4</td>\n",
       "      <td>1995</td>\n",
       "      <td>8.0</td>\n",
       "    </tr>\n",
       "    <tr>\n",
       "      <th>4</th>\n",
       "      <td>Africa</td>\n",
       "      <td>Algeria</td>\n",
       "      <td>NaN</td>\n",
       "      <td>Algiers</td>\n",
       "      <td>1</td>\n",
       "      <td>5</td>\n",
       "      <td>1995</td>\n",
       "      <td>8.8</td>\n",
       "    </tr>\n",
       "  </tbody>\n",
       "</table>\n",
       "</div>"
      ],
      "text/plain": [
       "   Region  Country State     City  Month  Day  Year  AvgTemperature\n",
       "0  Africa  Algeria   NaN  Algiers      1    1  1995            17.9\n",
       "1  Africa  Algeria   NaN  Algiers      1    2  1995             9.7\n",
       "2  Africa  Algeria   NaN  Algiers      1    3  1995             9.3\n",
       "3  Africa  Algeria   NaN  Algiers      1    4  1995             8.0\n",
       "4  Africa  Algeria   NaN  Algiers      1    5  1995             8.8"
      ]
     },
     "execution_count": 125,
     "metadata": {
      "tags": []
     },
     "output_type": "execute_result"
    }
   ],
   "source": [
    "data.head()"
   ]
  },
  {
   "cell_type": "markdown",
   "metadata": {
    "id": "m_Gi3-IlVK9d"
   },
   "source": [
    "We can get a summary of what's going on within a dataset by grouping subcategories together, for instance getting the averages of the dataframe for each Region-Country-State-City and Year:"
   ]
  },
  {
   "cell_type": "code",
   "execution_count": null,
   "metadata": {
    "colab": {
     "base_uri": "https://localhost:8080/",
     "height": 450
    },
    "id": "F13BEj0uUIbt",
    "outputId": "742de20f-55b8-4e3e-ff74-96c5242bbc4a"
   },
   "outputs": [
    {
     "data": {
      "text/html": [
       "<div>\n",
       "<style scoped>\n",
       "    .dataframe tbody tr th:only-of-type {\n",
       "        vertical-align: middle;\n",
       "    }\n",
       "\n",
       "    .dataframe tbody tr th {\n",
       "        vertical-align: top;\n",
       "    }\n",
       "\n",
       "    .dataframe thead th {\n",
       "        text-align: right;\n",
       "    }\n",
       "</style>\n",
       "<table border=\"1\" class=\"dataframe\">\n",
       "  <thead>\n",
       "    <tr style=\"text-align: right;\">\n",
       "      <th></th>\n",
       "      <th></th>\n",
       "      <th></th>\n",
       "      <th></th>\n",
       "      <th></th>\n",
       "      <th>Month</th>\n",
       "      <th>Day</th>\n",
       "      <th>AvgTemperature</th>\n",
       "    </tr>\n",
       "    <tr>\n",
       "      <th>Region</th>\n",
       "      <th>Country</th>\n",
       "      <th>State</th>\n",
       "      <th>City</th>\n",
       "      <th>Year</th>\n",
       "      <th></th>\n",
       "      <th></th>\n",
       "      <th></th>\n",
       "    </tr>\n",
       "  </thead>\n",
       "  <tbody>\n",
       "    <tr>\n",
       "      <th rowspan=\"11\" valign=\"top\">North America</th>\n",
       "      <th rowspan=\"11\" valign=\"top\">US</th>\n",
       "      <th rowspan=\"5\" valign=\"top\">Additional Territories</th>\n",
       "      <th rowspan=\"5\" valign=\"top\">San Juan Puerto Rico</th>\n",
       "      <th>1995</th>\n",
       "      <td>6.526027</td>\n",
       "      <td>15.720548</td>\n",
       "      <td>27.008493</td>\n",
       "    </tr>\n",
       "    <tr>\n",
       "      <th>1996</th>\n",
       "      <td>6.513661</td>\n",
       "      <td>15.756831</td>\n",
       "      <td>-15.196721</td>\n",
       "    </tr>\n",
       "    <tr>\n",
       "      <th>1997</th>\n",
       "      <td>6.526027</td>\n",
       "      <td>15.720548</td>\n",
       "      <td>15.360548</td>\n",
       "    </tr>\n",
       "    <tr>\n",
       "      <th>1998</th>\n",
       "      <td>6.526027</td>\n",
       "      <td>15.720548</td>\n",
       "      <td>11.422466</td>\n",
       "    </tr>\n",
       "    <tr>\n",
       "      <th>1999</th>\n",
       "      <td>6.526027</td>\n",
       "      <td>15.720548</td>\n",
       "      <td>16.188767</td>\n",
       "    </tr>\n",
       "    <tr>\n",
       "      <th>...</th>\n",
       "      <th>...</th>\n",
       "      <th>...</th>\n",
       "      <td>...</td>\n",
       "      <td>...</td>\n",
       "      <td>...</td>\n",
       "    </tr>\n",
       "    <tr>\n",
       "      <th rowspan=\"5\" valign=\"top\">Wyoming</th>\n",
       "      <th rowspan=\"5\" valign=\"top\">Cheyenne</th>\n",
       "      <th>2016</th>\n",
       "      <td>6.513661</td>\n",
       "      <td>15.756831</td>\n",
       "      <td>9.178689</td>\n",
       "    </tr>\n",
       "    <tr>\n",
       "      <th>2017</th>\n",
       "      <td>6.526027</td>\n",
       "      <td>15.720548</td>\n",
       "      <td>9.107397</td>\n",
       "    </tr>\n",
       "    <tr>\n",
       "      <th>2018</th>\n",
       "      <td>6.526027</td>\n",
       "      <td>15.720548</td>\n",
       "      <td>8.496164</td>\n",
       "    </tr>\n",
       "    <tr>\n",
       "      <th>2019</th>\n",
       "      <td>6.526027</td>\n",
       "      <td>15.720548</td>\n",
       "      <td>7.590959</td>\n",
       "    </tr>\n",
       "    <tr>\n",
       "      <th>2020</th>\n",
       "      <td>2.738806</td>\n",
       "      <td>14.798507</td>\n",
       "      <td>1.961940</td>\n",
       "    </tr>\n",
       "  </tbody>\n",
       "</table>\n",
       "<p>4031 rows × 3 columns</p>\n",
       "</div>"
      ],
      "text/plain": [
       "                                                                           Month  ...  AvgTemperature\n",
       "Region        Country State                  City                 Year            ...                \n",
       "North America US      Additional Territories San Juan Puerto Rico 1995  6.526027  ...       27.008493\n",
       "                                                                  1996  6.513661  ...      -15.196721\n",
       "                                                                  1997  6.526027  ...       15.360548\n",
       "                                                                  1998  6.526027  ...       11.422466\n",
       "                                                                  1999  6.526027  ...       16.188767\n",
       "...                                                                          ...  ...             ...\n",
       "                      Wyoming                Cheyenne             2016  6.513661  ...        9.178689\n",
       "                                                                  2017  6.526027  ...        9.107397\n",
       "                                                                  2018  6.526027  ...        8.496164\n",
       "                                                                  2019  6.526027  ...        7.590959\n",
       "                                                                  2020  2.738806  ...        1.961940\n",
       "\n",
       "[4031 rows x 3 columns]"
      ]
     },
     "execution_count": 126,
     "metadata": {
      "tags": []
     },
     "output_type": "execute_result"
    }
   ],
   "source": [
    "data.groupby(['Region','Country','State','City','Year']).mean()"
   ]
  },
  {
   "cell_type": "markdown",
   "metadata": {
    "id": "oUVZSxJlV1Fd"
   },
   "source": [
    "Sometimes we know what city we want information for so can get a *slice* of the dataframe for subsequent plotting and analysis. Let's focus in on Vienna and look at the annual average temperatures."
   ]
  },
  {
   "cell_type": "code",
   "execution_count": null,
   "metadata": {
    "colab": {
     "base_uri": "https://localhost:8080/",
     "height": 235
    },
    "id": "0AeFqd6XUS2w",
    "outputId": "ee1c0590-448c-4509-ebfe-fc1293aa2132"
   },
   "outputs": [
    {
     "data": {
      "text/html": [
       "<div>\n",
       "<style scoped>\n",
       "    .dataframe tbody tr th:only-of-type {\n",
       "        vertical-align: middle;\n",
       "    }\n",
       "\n",
       "    .dataframe tbody tr th {\n",
       "        vertical-align: top;\n",
       "    }\n",
       "\n",
       "    .dataframe thead th {\n",
       "        text-align: right;\n",
       "    }\n",
       "</style>\n",
       "<table border=\"1\" class=\"dataframe\">\n",
       "  <thead>\n",
       "    <tr style=\"text-align: right;\">\n",
       "      <th></th>\n",
       "      <th>AvgTemperature</th>\n",
       "    </tr>\n",
       "    <tr>\n",
       "      <th>Year</th>\n",
       "      <th></th>\n",
       "    </tr>\n",
       "  </thead>\n",
       "  <tbody>\n",
       "    <tr>\n",
       "      <th>1998</th>\n",
       "      <td>-6.077174</td>\n",
       "    </tr>\n",
       "    <tr>\n",
       "      <th>1999</th>\n",
       "      <td>8.012603</td>\n",
       "    </tr>\n",
       "    <tr>\n",
       "      <th>2000</th>\n",
       "      <td>-43.645628</td>\n",
       "    </tr>\n",
       "    <tr>\n",
       "      <th>2001</th>\n",
       "      <td>-2.084384</td>\n",
       "    </tr>\n",
       "    <tr>\n",
       "      <th>2002</th>\n",
       "      <td>-23.160548</td>\n",
       "    </tr>\n",
       "  </tbody>\n",
       "</table>\n",
       "</div>"
      ],
      "text/plain": [
       "      AvgTemperature\n",
       "Year                \n",
       "1998       -6.077174\n",
       "1999        8.012603\n",
       "2000      -43.645628\n",
       "2001       -2.084384\n",
       "2002      -23.160548"
      ]
     },
     "execution_count": 138,
     "metadata": {
      "tags": []
     },
     "output_type": "execute_result"
    }
   ],
   "source": [
    "#Filtering the data of Lagos for 5 years (temperature)\n",
    "data = data[data.Year > 1990]\n",
    "Lagos = data[data['City']=='Lagos'].copy() # great city\n",
    "Lagos = Lagos.groupby(['Year']).mean()\n",
    "Lagos.drop(columns=['Month','Day']).head()"
   ]
  },
  {
   "cell_type": "code",
   "execution_count": null,
   "metadata": {
    "colab": {
     "base_uri": "https://localhost:8080/",
     "height": 235
    },
    "id": "iZr9NIG1J9lx",
    "outputId": "bc92ebec-b736-4360-c60f-6d6a9143b8a7"
   },
   "outputs": [
    {
     "data": {
      "text/html": [
       "<div>\n",
       "<style scoped>\n",
       "    .dataframe tbody tr th:only-of-type {\n",
       "        vertical-align: middle;\n",
       "    }\n",
       "\n",
       "    .dataframe tbody tr th {\n",
       "        vertical-align: top;\n",
       "    }\n",
       "\n",
       "    .dataframe thead th {\n",
       "        text-align: right;\n",
       "    }\n",
       "</style>\n",
       "<table border=\"1\" class=\"dataframe\">\n",
       "  <thead>\n",
       "    <tr style=\"text-align: right;\">\n",
       "      <th></th>\n",
       "      <th>AvgTemperature</th>\n",
       "    </tr>\n",
       "    <tr>\n",
       "      <th>Year</th>\n",
       "      <th></th>\n",
       "    </tr>\n",
       "  </thead>\n",
       "  <tbody>\n",
       "    <tr>\n",
       "      <th>1995</th>\n",
       "      <td>25.461644</td>\n",
       "    </tr>\n",
       "    <tr>\n",
       "      <th>1996</th>\n",
       "      <td>24.899180</td>\n",
       "    </tr>\n",
       "    <tr>\n",
       "      <th>1997</th>\n",
       "      <td>25.960822</td>\n",
       "    </tr>\n",
       "    <tr>\n",
       "      <th>1998</th>\n",
       "      <td>25.441096</td>\n",
       "    </tr>\n",
       "    <tr>\n",
       "      <th>1999</th>\n",
       "      <td>26.257534</td>\n",
       "    </tr>\n",
       "  </tbody>\n",
       "</table>\n",
       "</div>"
      ],
      "text/plain": [
       "      AvgTemperature\n",
       "Year                \n",
       "1995       25.461644\n",
       "1996       24.899180\n",
       "1997       25.960822\n",
       "1998       25.441096\n",
       "1999       26.257534"
      ]
     },
     "execution_count": 128,
     "metadata": {
      "tags": []
     },
     "output_type": "execute_result"
    }
   ],
   "source": [
    "Calcutta = data[data['City']=='Calcutta'].copy() # great city\n",
    "Calcutta = Calcutta.groupby(['Year']).mean()\n",
    "Calcutta.drop(columns=['Month','Day']).head()"
   ]
  },
  {
   "cell_type": "code",
   "execution_count": null,
   "metadata": {
    "colab": {
     "base_uri": "https://localhost:8080/",
     "height": 235
    },
    "id": "SyCfzffiJ9_5",
    "outputId": "9ea8d237-42d2-4c2a-f7a5-052c47d130b9"
   },
   "outputs": [
    {
     "data": {
      "text/html": [
       "<div>\n",
       "<style scoped>\n",
       "    .dataframe tbody tr th:only-of-type {\n",
       "        vertical-align: middle;\n",
       "    }\n",
       "\n",
       "    .dataframe tbody tr th {\n",
       "        vertical-align: top;\n",
       "    }\n",
       "\n",
       "    .dataframe thead th {\n",
       "        text-align: right;\n",
       "    }\n",
       "</style>\n",
       "<table border=\"1\" class=\"dataframe\">\n",
       "  <thead>\n",
       "    <tr style=\"text-align: right;\">\n",
       "      <th></th>\n",
       "      <th>AvgTemperature</th>\n",
       "    </tr>\n",
       "    <tr>\n",
       "      <th>Year</th>\n",
       "      <th></th>\n",
       "    </tr>\n",
       "  </thead>\n",
       "  <tbody>\n",
       "    <tr>\n",
       "      <th>1995</th>\n",
       "      <td>11.006301</td>\n",
       "    </tr>\n",
       "    <tr>\n",
       "      <th>1996</th>\n",
       "      <td>11.410109</td>\n",
       "    </tr>\n",
       "    <tr>\n",
       "      <th>1997</th>\n",
       "      <td>12.621096</td>\n",
       "    </tr>\n",
       "    <tr>\n",
       "      <th>1998</th>\n",
       "      <td>11.451781</td>\n",
       "    </tr>\n",
       "    <tr>\n",
       "      <th>1999</th>\n",
       "      <td>12.486849</td>\n",
       "    </tr>\n",
       "  </tbody>\n",
       "</table>\n",
       "</div>"
      ],
      "text/plain": [
       "      AvgTemperature\n",
       "Year                \n",
       "1995       11.006301\n",
       "1996       11.410109\n",
       "1997       12.621096\n",
       "1998       11.451781\n",
       "1999       12.486849"
      ]
     },
     "execution_count": 129,
     "metadata": {
      "tags": []
     },
     "output_type": "execute_result"
    }
   ],
   "source": [
    "Milan = data[data['City']=='Milan'].copy() # great city\n",
    "Milan = Milan.groupby(['Year']).mean()\n",
    "Milan.drop(columns=['Month','Day']).head()"
   ]
  },
  {
   "cell_type": "markdown",
   "metadata": {
    "id": "cfM89gURcPOd"
   },
   "source": [
    "This is all well, but let's see a plot to get a really good idea of what's gone on here:"
   ]
  },
  {
   "cell_type": "code",
   "execution_count": null,
   "metadata": {
    "colab": {
     "base_uri": "https://localhost:8080/",
     "height": 282
    },
    "id": "Wkq0rnHWV9Ka",
    "outputId": "894a2fed-0087-414e-b263-1c44fd87f2e8"
   },
   "outputs": [
    {
     "data": {
      "text/plain": [
       "[<matplotlib.lines.Line2D at 0x7f409b9346d0>]"
      ]
     },
     "execution_count": 45,
     "metadata": {
      "tags": []
     },
     "output_type": "execute_result"
    },
    {
     "data": {
      "image/png": "[encoded data removed]",
      "text/plain": [
       "<Figure size 432x288 with 1 Axes>"
      ]
     },
     "metadata": {
      "needs_background": "light",
      "tags": []
     },
     "output_type": "display_data"
    }
   ],
   "source": [
    "# Plotting a line chart\n",
    "import matplotlib.pyplot as plt\n",
    "\n",
    "plt.plot(Lagos.index,Lagos['AvgTemperature'])\n",
    "\n",
    "# fit a linear regression (trend)\n",
    "m, b = np.polyfit(Lagos.index, Lagos['AvgTemperature'], 1)\n",
    "plt.plot(Lagos.index, m * Lagos.index + b)"
   ]
  },
  {
   "cell_type": "code",
   "execution_count": null,
   "metadata": {
    "colab": {
     "base_uri": "https://localhost:8080/",
     "height": 282
    },
    "id": "6kUZk76FKTfN",
    "outputId": "77aa4810-c055-4bd8-a8a0-33cf962d4389"
   },
   "outputs": [
    {
     "data": {
      "text/plain": [
       "[<matplotlib.lines.Line2D at 0x7f4090f6afd0>]"
      ]
     },
     "execution_count": 130,
     "metadata": {
      "tags": []
     },
     "output_type": "execute_result"
    },
    {
     "data": {
      "image/png": "[encoded data removed]",
      "text/plain": [
       "<Figure size 432x288 with 1 Axes>"
      ]
     },
     "metadata": {
      "needs_background": "light",
      "tags": []
     },
     "output_type": "display_data"
    }
   ],
   "source": [
    "# Plotting a line chart\n",
    "import matplotlib.pyplot as plt\n",
    "import numpy as np\n",
    "\n",
    "plt.plot(Calcutta.index,Calcutta['AvgTemperature'])\n",
    "\n",
    "# fit a linear regression (trend)\n",
    "m, b = np.polyfit(Calcutta.index, Calcutta['AvgTemperature'], 1)\n",
    "plt.plot(Calcutta.index, m * Calcutta.index + b)"
   ]
  },
  {
   "cell_type": "code",
   "execution_count": null,
   "metadata": {
    "colab": {
     "base_uri": "https://localhost:8080/",
     "height": 282
    },
    "id": "ptqcz2W-KT6i",
    "outputId": "606fd8d6-f7c3-4ca2-90ab-4415dbf8a891"
   },
   "outputs": [
    {
     "data": {
      "text/plain": [
       "[<matplotlib.lines.Line2D at 0x7f409738e5d0>]"
      ]
     },
     "execution_count": 134,
     "metadata": {
      "tags": []
     },
     "output_type": "execute_result"
    },
    {
     "data": {
      "image/png": "[encoded data removed]",
      "text/plain": [
       "<Figure size 432x288 with 1 Axes>"
      ]
     },
     "metadata": {
      "needs_background": "light",
      "tags": []
     },
     "output_type": "display_data"
    }
   ],
   "source": [
    "# Plotting a line chart\n",
    "import matplotlib.pyplot as plt\n",
    "import numpy as np\n",
    "\n",
    "plt.plot(Milan.index,Milan['AvgTemperature'])\n",
    "\n",
    "# fit a linear regression (trend)\n",
    "m, b = np.polyfit(Milan.index, Milan['AvgTemperature'], 1)\n",
    "plt.plot(Milan.index, m * Milan.index + b)"
   ]
  },
  {
   "cell_type": "code",
   "execution_count": null,
   "metadata": {
    "colab": {
     "base_uri": "https://localhost:8080/",
     "height": 282
    },
    "id": "weOiF_-jQ8kz",
    "outputId": "ea1f3a2c-7c41-4739-93a7-cae84200331a"
   },
   "outputs": [
    {
     "data": {
      "text/plain": [
       "<matplotlib.legend.Legend at 0x7f40972b7f90>"
      ]
     },
     "execution_count": 142,
     "metadata": {
      "tags": []
     },
     "output_type": "execute_result"
    },
    {
     "data": {
      "image/png": "[encoded data removed]",
      "text/plain": [
       "<Figure size 432x288 with 1 Axes>"
      ]
     },
     "metadata": {
      "needs_background": "light",
      "tags": []
     },
     "output_type": "display_data"
    }
   ],
   "source": [
    "# Plotting a line chart\n",
    "import matplotlib.pyplot as plt\n",
    "import numpy as np\n",
    "import pandas as pd\n",
    "\n",
    "plt.plot(Lagos.index,Lagos['AvgTemperature'])\n",
    "\n",
    "# fit a linear regression (trend)\n",
    "m2, b2 = np.polyfit(Lagos.index, Lagos['AvgTemperature'], 1)\n",
    "plt.plot(Lagos.index, m2 * Lagos.index + b2)\n",
    "\n",
    "plt.plot(Calcutta.index,Calcutta['AvgTemperature'])\n",
    "\n",
    "# fit a linear regression (trend)\n",
    "m1, b1 = np.polyfit(Calcutta.index, Calcutta['AvgTemperature'], 1)\n",
    "plt.plot(Calcutta.index, m * Calcutta.index + b)\n",
    "\n",
    "plt.plot(Milan.index,Milan['AvgTemperature'])\n",
    "\n",
    "\n",
    "# fit a linear regression (trend)\n",
    "m, b = np.polyfit(Milan.index, Milan['AvgTemperature'], 1)\n",
    "plt.plot(Lagos.index, m2 * Lagos.index + b2, label = \"Lagos\")\n",
    "plt.plot(Milan.index, m * Milan.index + b, label = \"Milan\" )\n",
    "plt.plot(Calcutta.index, m1 * Calcutta.index + b1, label = \"Calcutta\")\n",
    "plt.legend(loc=\"best\")\n"
   ]
  },
  {
   "cell_type": "markdown",
   "metadata": {
    "id": "lVzqbSX0iIDe"
   },
   "source": [
    "So here we've got an idea of what's going on, but there's a significant drop in 2020. What could be causing this? Let's explore and see the values for each year to check that 2020 is plotting correctly. Then let's view the *time series* for 2018-2020 and see what's going on with the trend."
   ]
  },
  {
   "cell_type": "code",
   "execution_count": null,
   "metadata": {
    "colab": {
     "base_uri": "https://localhost:8080/",
     "height": 421
    },
    "id": "NQCPSLmMWmxj",
    "outputId": "9b42f833-abee-4f23-b9d1-1343344da2fe"
   },
   "outputs": [
    {
     "data": {
      "text/html": [
       "<div>\n",
       "<style scoped>\n",
       "    .dataframe tbody tr th:only-of-type {\n",
       "        vertical-align: middle;\n",
       "    }\n",
       "\n",
       "    .dataframe tbody tr th {\n",
       "        vertical-align: top;\n",
       "    }\n",
       "\n",
       "    .dataframe thead th {\n",
       "        text-align: right;\n",
       "    }\n",
       "</style>\n",
       "<table border=\"1\" class=\"dataframe\">\n",
       "  <thead>\n",
       "    <tr style=\"text-align: right;\">\n",
       "      <th></th>\n",
       "      <th>Month</th>\n",
       "      <th>Day</th>\n",
       "      <th>AvgTemperature</th>\n",
       "    </tr>\n",
       "    <tr>\n",
       "      <th>Year</th>\n",
       "      <th></th>\n",
       "      <th></th>\n",
       "      <th></th>\n",
       "    </tr>\n",
       "  </thead>\n",
       "  <tbody>\n",
       "    <tr>\n",
       "      <th>2010</th>\n",
       "      <td>6.526027</td>\n",
       "      <td>15.720548</td>\n",
       "      <td>11.815068</td>\n",
       "    </tr>\n",
       "    <tr>\n",
       "      <th>2011</th>\n",
       "      <td>6.526027</td>\n",
       "      <td>15.720548</td>\n",
       "      <td>13.147945</td>\n",
       "    </tr>\n",
       "    <tr>\n",
       "      <th>2012</th>\n",
       "      <td>6.513661</td>\n",
       "      <td>15.756831</td>\n",
       "      <td>12.804918</td>\n",
       "    </tr>\n",
       "    <tr>\n",
       "      <th>2013</th>\n",
       "      <td>6.526027</td>\n",
       "      <td>15.720548</td>\n",
       "      <td>12.412603</td>\n",
       "    </tr>\n",
       "    <tr>\n",
       "      <th>2014</th>\n",
       "      <td>6.526027</td>\n",
       "      <td>15.720548</td>\n",
       "      <td>13.027671</td>\n",
       "    </tr>\n",
       "    <tr>\n",
       "      <th>2015</th>\n",
       "      <td>6.540984</td>\n",
       "      <td>15.759563</td>\n",
       "      <td>12.789344</td>\n",
       "    </tr>\n",
       "    <tr>\n",
       "      <th>2016</th>\n",
       "      <td>6.513661</td>\n",
       "      <td>15.756831</td>\n",
       "      <td>12.290710</td>\n",
       "    </tr>\n",
       "    <tr>\n",
       "      <th>2017</th>\n",
       "      <td>6.526027</td>\n",
       "      <td>15.720548</td>\n",
       "      <td>13.546575</td>\n",
       "    </tr>\n",
       "    <tr>\n",
       "      <th>2018</th>\n",
       "      <td>6.526027</td>\n",
       "      <td>15.720548</td>\n",
       "      <td>13.171507</td>\n",
       "    </tr>\n",
       "    <tr>\n",
       "      <th>2019</th>\n",
       "      <td>6.526027</td>\n",
       "      <td>15.720548</td>\n",
       "      <td>12.545753</td>\n",
       "    </tr>\n",
       "    <tr>\n",
       "      <th>2020</th>\n",
       "      <td>2.738806</td>\n",
       "      <td>14.798507</td>\n",
       "      <td>8.779851</td>\n",
       "    </tr>\n",
       "  </tbody>\n",
       "</table>\n",
       "</div>"
      ],
      "text/plain": [
       "         Month        Day  AvgTemperature\n",
       "Year                                     \n",
       "2010  6.526027  15.720548       11.815068\n",
       "2011  6.526027  15.720548       13.147945\n",
       "2012  6.513661  15.756831       12.804918\n",
       "2013  6.526027  15.720548       12.412603\n",
       "2014  6.526027  15.720548       13.027671\n",
       "2015  6.540984  15.759563       12.789344\n",
       "2016  6.513661  15.756831       12.290710\n",
       "2017  6.526027  15.720548       13.546575\n",
       "2018  6.526027  15.720548       13.171507\n",
       "2019  6.526027  15.720548       12.545753\n",
       "2020  2.738806  14.798507        8.779851"
      ]
     },
     "execution_count": 140,
     "metadata": {
      "tags": []
     },
     "output_type": "execute_result"
    }
   ],
   "source": [
    "Lagos.tail(11)\n",
    "Calcutta.tail(11)\n",
    "Milan.tail(11)"
   ]
  },
  {
   "cell_type": "code",
   "execution_count": null,
   "metadata": {
    "colab": {
     "base_uri": "https://localhost:8080/",
     "height": 204
    },
    "id": "LxUjfs4_lWLL",
    "outputId": "1ea0ea85-1076-4a93-8495-9c2732b99807"
   },
   "outputs": [
    {
     "data": {
      "text/html": [
       "<div>\n",
       "<style scoped>\n",
       "    .dataframe tbody tr th:only-of-type {\n",
       "        vertical-align: middle;\n",
       "    }\n",
       "\n",
       "    .dataframe tbody tr th {\n",
       "        vertical-align: top;\n",
       "    }\n",
       "\n",
       "    .dataframe thead th {\n",
       "        text-align: right;\n",
       "    }\n",
       "</style>\n",
       "<table border=\"1\" class=\"dataframe\">\n",
       "  <thead>\n",
       "    <tr style=\"text-align: right;\">\n",
       "      <th></th>\n",
       "      <th>Region</th>\n",
       "      <th>Country</th>\n",
       "      <th>State</th>\n",
       "      <th>City</th>\n",
       "      <th>Month</th>\n",
       "      <th>Day</th>\n",
       "      <th>Year</th>\n",
       "      <th>AvgTemperature</th>\n",
       "    </tr>\n",
       "  </thead>\n",
       "  <tbody>\n",
       "    <tr>\n",
       "      <th>178894</th>\n",
       "      <td>Africa</td>\n",
       "      <td>Nigeria</td>\n",
       "      <td>NaN</td>\n",
       "      <td>Lagos</td>\n",
       "      <td>12</td>\n",
       "      <td>27</td>\n",
       "      <td>2010</td>\n",
       "      <td>28.0</td>\n",
       "    </tr>\n",
       "    <tr>\n",
       "      <th>178895</th>\n",
       "      <td>Africa</td>\n",
       "      <td>Nigeria</td>\n",
       "      <td>NaN</td>\n",
       "      <td>Lagos</td>\n",
       "      <td>12</td>\n",
       "      <td>28</td>\n",
       "      <td>2010</td>\n",
       "      <td>27.2</td>\n",
       "    </tr>\n",
       "    <tr>\n",
       "      <th>178896</th>\n",
       "      <td>Africa</td>\n",
       "      <td>Nigeria</td>\n",
       "      <td>NaN</td>\n",
       "      <td>Lagos</td>\n",
       "      <td>12</td>\n",
       "      <td>29</td>\n",
       "      <td>2010</td>\n",
       "      <td>26.3</td>\n",
       "    </tr>\n",
       "    <tr>\n",
       "      <th>178897</th>\n",
       "      <td>Africa</td>\n",
       "      <td>Nigeria</td>\n",
       "      <td>NaN</td>\n",
       "      <td>Lagos</td>\n",
       "      <td>12</td>\n",
       "      <td>30</td>\n",
       "      <td>2010</td>\n",
       "      <td>25.9</td>\n",
       "    </tr>\n",
       "    <tr>\n",
       "      <th>178898</th>\n",
       "      <td>Africa</td>\n",
       "      <td>Nigeria</td>\n",
       "      <td>NaN</td>\n",
       "      <td>Lagos</td>\n",
       "      <td>12</td>\n",
       "      <td>31</td>\n",
       "      <td>2010</td>\n",
       "      <td>24.8</td>\n",
       "    </tr>\n",
       "  </tbody>\n",
       "</table>\n",
       "</div>"
      ],
      "text/plain": [
       "        Region  Country State   City  Month  Day  Year  AvgTemperature\n",
       "178894  Africa  Nigeria   NaN  Lagos     12   27  2010            28.0\n",
       "178895  Africa  Nigeria   NaN  Lagos     12   28  2010            27.2\n",
       "178896  Africa  Nigeria   NaN  Lagos     12   29  2010            26.3\n",
       "178897  Africa  Nigeria   NaN  Lagos     12   30  2010            25.9\n",
       "178898  Africa  Nigeria   NaN  Lagos     12   31  2010            24.8"
      ]
     },
     "execution_count": 155,
     "metadata": {
      "tags": []
     },
     "output_type": "execute_result"
    }
   ],
   "source": [
    "sliced.tail()"
   ]
  },
  {
   "cell_type": "code",
   "execution_count": null,
   "metadata": {
    "colab": {
     "base_uri": "https://localhost:8080/",
     "height": 282
    },
    "id": "aChnS2JNcdO2",
    "outputId": "5303f0cb-aeba-435a-99aa-7b312cc81fe2"
   },
   "outputs": [
    {
     "data": {
      "text/plain": [
       "[<matplotlib.lines.Line2D at 0x7f4096fa3c90>]"
      ]
     },
     "execution_count": 192,
     "metadata": {
      "tags": []
     },
     "output_type": "execute_result"
    },
    {
     "data": {
      "image/png": "[encoded data removed]",
      "text/plain": [
       "<Figure size 432x288 with 1 Axes>"
      ]
     },
     "metadata": {
      "needs_background": "light",
      "tags": []
     },
     "output_type": "display_data"
    }
   ],
   "source": [
    "sliced = data[data['City']=='Lagos']\n",
    "sliced = sliced[sliced['Year']==2012]\n",
    "plt.plot(sliced.index,sliced['AvgTemperature'])\n",
    "sliced = data[data['City']=='Lagos']\n",
    "sliced = sliced[sliced['Year']==2011]\n",
    "plt.plot(sliced.index,sliced['AvgTemperature'])\n",
    "sliced = data[data['City']=='Lagos']\n",
    "sliced = sliced[sliced['Year']==2010]\n",
    "plt.plot(sliced.index,sliced['AvgTemperature'])\n",
    "#sliced.describe"
   ]
  },
  {
   "cell_type": "markdown",
   "metadata": {
    "id": "vskftTW9m3u7"
   },
   "source": [
    "So we should notice why 2020 is looking different on the averages listed above from this plot. What this has also highlighted is the fact that there are some uncharacteristically low values in 2018 and 2019. This data may actually need *cleaning* to avoid undue effects on subsequent modelling."
   ]
  },
  {
   "cell_type": "code",
   "execution_count": null,
   "metadata": {
    "colab": {
     "base_uri": "https://localhost:8080/"
    },
    "id": "_W9mB9p6nLVk",
    "outputId": "7bee58cd-8f40-4c01-ce6b-5eeda93c0e85"
   },
   "outputs": [
    {
     "name": "stdout",
     "output_type": "stream",
     "text": [
      "Number of null values:\n",
      "0\n",
      "Number of N\\A values:\n",
      "0\n",
      "Number of low values (<20):\n",
      "7\n"
     ]
    }
   ],
   "source": [
    "print(\"Number of null values:\")\n",
    "print(sum(sliced['AvgTemperature'].isnull()))\n",
    "print(\"Number of N\\A values:\")\n",
    "print(sum(sliced['AvgTemperature'].isna()))\n",
    "print(\"Number of low values (<20):\")\n",
    "print(sum(sliced['AvgTemperature']<20))"
   ]
  },
  {
   "cell_type": "markdown",
   "metadata": {
    "id": "25lO2TPftMZo"
   },
   "source": [
    "Let's look into these 3 values in more detail:"
   ]
  },
  {
   "cell_type": "code",
   "execution_count": null,
   "metadata": {
    "colab": {
     "base_uri": "https://localhost:8080/"
    },
    "id": "ysuzfCslnXNk",
    "outputId": "a978a7d0-1581-4681-bb2f-3e991f453180"
   },
   "outputs": [
    {
     "data": {
      "text/plain": [
       "Int64Index([178691, 178704, 178705, 178706, 178710, 178712, 178806], dtype='int64')"
      ]
     },
     "execution_count": 194,
     "metadata": {
      "tags": []
     },
     "output_type": "execute_result"
    }
   ],
   "source": [
    "sliced[sliced['AvgTemperature']<20].index"
   ]
  },
  {
   "cell_type": "code",
   "execution_count": null,
   "metadata": {
    "colab": {
     "base_uri": "https://localhost:8080/"
    },
    "id": "RtAulK-Hnfxi",
    "outputId": "85a593bc-7a91-414a-b2a4-487350bd85fd"
   },
   "outputs": [
    {
     "name": "stdout",
     "output_type": "stream",
     "text": [
      "        Region  Country State   City  Month  Day  Year  AvgTemperature\n",
      "178691  Africa  Nigeria   NaN  Lagos      6    7  2010           -72.8\n",
      "178704  Africa  Nigeria   NaN  Lagos      6   20  2010           -72.8\n",
      "178705  Africa  Nigeria   NaN  Lagos      6   21  2010           -72.8\n",
      "178706  Africa  Nigeria   NaN  Lagos      6   22  2010           -72.8\n",
      "178710  Africa  Nigeria   NaN  Lagos      6   26  2010           -72.8\n",
      "178712  Africa  Nigeria   NaN  Lagos      6   28  2010           -72.8\n",
      "178806  Africa  Nigeria   NaN  Lagos      9   30  2010           -72.8\n"
     ]
    }
   ],
   "source": [
    "print(sliced.loc[[178691, 178704, 178705, 178706, 178710, 178712, 178806]])"
   ]
  },
  {
   "cell_type": "markdown",
   "metadata": {
    "id": "nCnF8X-EtS_K"
   },
   "source": [
    "So there is clearly values included here in error since Vienna didn't have -72.8 Celsius weather on these three days. We have a few options here to *clean* this bad data:\n",
    "\n",
    "i)  We can cut it from the dataframe\n",
    "\n",
    "ii) We can *impute* it"
   ]
  },
  {
   "cell_type": "code",
   "execution_count": null,
   "metadata": {
    "id": "WK3OO_9Jspss"
   },
   "outputs": [],
   "source": [
    "# Let's drop the first one from the dataset and see what it looks like now:\n",
    "sliced = sliced.drop(index=178705)"
   ]
  },
  {
   "cell_type": "markdown",
   "metadata": {
    "id": "NUd1daxCvBaK"
   },
   "source": [
    "Now let's look at the next pair. We can swap these values for the mean of the data either side, or the median  of the year."
   ]
  },
  {
   "cell_type": "code",
   "execution_count": null,
   "metadata": {
    "colab": {
     "base_uri": "https://localhost:8080/"
    },
    "id": "SfkiRHjquBsB",
    "outputId": "5991397f-b66c-43d9-b751-9a817cbd2296"
   },
   "outputs": [
    {
     "name": "stdout",
     "output_type": "stream",
     "text": [
      "        Region  Country State   City  Month  Day  Year  AvgTemperature\n",
      "178691  Africa  Nigeria   NaN  Lagos      6    7  2010           -72.8\n",
      "178710  Africa  Nigeria   NaN  Lagos      6   26  2010           -72.8\n",
      "178712  Africa  Nigeria   NaN  Lagos      6   28  2010           -72.8\n",
      "178806  Africa  Nigeria   NaN  Lagos      9   30  2010           -72.8\n"
     ]
    }
   ],
   "source": [
    "print(sliced.loc[[178691, 178710, 178712, 178806]])"
   ]
  },
  {
   "cell_type": "code",
   "execution_count": null,
   "metadata": {
    "id": "zEdfG_72vcO7"
   },
   "outputs": [],
   "source": [
    "sliced.at[178691,'AvgTemperature'] = 0.5*(sliced.at[178690,'AvgTemperature'] + sliced.at[178693,'AvgTemperature'])"
   ]
  },
  {
   "cell_type": "code",
   "execution_count": null,
   "metadata": {
    "id": "0FOjzq9ZhO4Y"
   },
   "outputs": [],
   "source": [
    "sliced.at[178691,'AvgTemperature'] = sliced.at[178693,'AvgTemperature']"
   ]
  },
  {
   "cell_type": "code",
   "execution_count": null,
   "metadata": {
    "colab": {
     "base_uri": "https://localhost:8080/"
    },
    "id": "KQFq5fkHwIxl",
    "outputId": "03952e48-8e60-41e1-8c7c-dda741345a8b"
   },
   "outputs": [
    {
     "name": "stdout",
     "output_type": "stream",
     "text": [
      "        Region  Country State   City  Month  Day  Year  AvgTemperature\n",
      "178691  Africa  Nigeria   NaN  Lagos      6    7  2010            24.9\n",
      "178710  Africa  Nigeria   NaN  Lagos      6   26  2010           -72.8\n",
      "178712  Africa  Nigeria   NaN  Lagos      6   28  2010           -72.8\n",
      "178806  Africa  Nigeria   NaN  Lagos      9   30  2010           -72.8\n"
     ]
    }
   ],
   "source": [
    "print(sliced.loc[[178691, 178710, 178712, 178806]])"
   ]
  },
  {
   "cell_type": "code",
   "execution_count": null,
   "metadata": {
    "id": "YCwIB-MRwYzN"
   },
   "outputs": [],
   "source": [
    "sliced.at[178691,'AvgTemperature'] = sliced.loc[178200:179800,\"AvgTemperature\"].median()"
   ]
  },
  {
   "cell_type": "code",
   "execution_count": null,
   "metadata": {
    "id": "Ek0PBpmzvD_V"
   },
   "outputs": [],
   "source": [
    "#sliced.at[178806,'AvgTemperature'] = sliced.loc[178200:179800,\"AvgTemperature\"].mean()"
   ]
  },
  {
   "cell_type": "code",
   "execution_count": null,
   "metadata": {
    "id": "WBs3avkmvUWU"
   },
   "outputs": [],
   "source": [
    "# sliced.at[178806,'AvgTemperature'] = sliced.loc[178670:178690,\"AvgTemperature\"].mode()"
   ]
  },
  {
   "cell_type": "code",
   "execution_count": null,
   "metadata": {
    "id": "PKQBP0fdzT3_"
   },
   "outputs": [],
   "source": [
    "# sliced.at[178806,'AvgTemperature'] = sliced.loc[178600:178690,\"AvgTemperature\"].std()"
   ]
  },
  {
   "cell_type": "code",
   "execution_count": null,
   "metadata": {
    "colab": {
     "base_uri": "https://localhost:8080/"
    },
    "id": "s16j0sk6wrvh",
    "outputId": "334d300b-9d28-40e9-f2f0-b1820c77129b"
   },
   "outputs": [
    {
     "name": "stdout",
     "output_type": "stream",
     "text": [
      "        Region  Country State   City  Month  Day  Year  AvgTemperature\n",
      "178691  Africa  Nigeria   NaN  Lagos      6    7  2010            26.9\n"
     ]
    }
   ],
   "source": [
    "print(sliced.loc[[178691]])"
   ]
  },
  {
   "cell_type": "markdown",
   "metadata": {
    "id": "70kSRy4KyFbv"
   },
   "source": [
    "So now we've dropped one from the dataset, replaced another with the mean of surrounding points and the other with the median. We'll look more into what the difference in these statistics can be later on. For now, let's look at the updated plot."
   ]
  },
  {
   "cell_type": "code",
   "execution_count": null,
   "metadata": {
    "colab": {
     "base_uri": "https://localhost:8080/",
     "height": 334
    },
    "id": "Lc65axoJxNkd",
    "outputId": "c3cd0c66-7964-46ce-d36a-916b351485f0"
   },
   "outputs": [
    {
     "name": "stdout",
     "output_type": "stream",
     "text": [
      "Maximum is: \n",
      "30.8\n",
      "Minimum is: \n",
      "24.5\n"
     ]
    },
    {
     "data": {
      "image/png": "[encoded data removed]",
      "text/plain": [
       "<Figure size 432x288 with 1 Axes>"
      ]
     },
     "metadata": {
      "needs_background": "light",
      "tags": []
     },
     "output_type": "display_data"
    }
   ],
   "source": [
    "plt.plot(sliced.index,sliced['AvgTemperature'])\n",
    "print('Maximum is: ')\n",
    "print(sliced['AvgTemperature'].max())\n",
    "print('Minimum is: ')\n",
    "print(sliced['AvgTemperature'].min())"
   ]
  }
 ],
 "metadata": {
  "colab": {
   "provenance": []
  },
  "kernelspec": {
   "display_name": "Python 3 (ipykernel)",
   "language": "python",
   "name": "python3"
  },
  "language_info": {
   "codemirror_mode": {
    "name": "ipython",
    "version": 3
   },
   "file_extension": ".py",
   "mimetype": "text/x-python",
   "name": "python",
   "nbconvert_exporter": "python",
   "pygments_lexer": "ipython3",
   "version": "3.9.15"
  }
 },
 "nbformat": 4,
 "nbformat_minor": 1
}
